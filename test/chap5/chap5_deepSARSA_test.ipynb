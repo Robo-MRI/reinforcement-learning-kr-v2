{
 "cells": [
  {
   "cell_type": "code",
   "execution_count": 1,
   "metadata": {},
   "outputs": [
    {
     "name": "stderr",
     "output_type": "stream",
     "text": [
      "2024-10-27 19:17:50.754798: E external/local_xla/xla/stream_executor/cuda/cuda_fft.cc:477] Unable to register cuFFT factory: Attempting to register factory for plugin cuFFT when one has already been registered\n",
      "WARNING: All log messages before absl::InitializeLog() is called are written to STDERR\n",
      "E0000 00:00:1730071070.774380 3898476 cuda_dnn.cc:8310] Unable to register cuDNN factory: Attempting to register factory for plugin cuDNN when one has already been registered\n",
      "E0000 00:00:1730071070.780949 3898476 cuda_blas.cc:1418] Unable to register cuBLAS factory: Attempting to register factory for plugin cuBLAS when one has already been registered\n",
      "2024-10-27 19:17:50.802711: I tensorflow/core/platform/cpu_feature_guard.cc:210] This TensorFlow binary is optimized to use available CPU instructions in performance-critical operations.\n",
      "To enable the following instructions: AVX2 FMA, in other operations, rebuild TensorFlow with the appropriate compiler flags.\n"
     ]
    }
   ],
   "source": [
    "import random\n",
    "import numpy as np\n",
    "from environment import Env\n",
    "import tensorflow as tf\n",
    "from tensorflow.keras.layers import Dense"
   ]
  },
  {
   "cell_type": "code",
   "execution_count": 2,
   "metadata": {},
   "outputs": [],
   "source": [
    "# DeepSALSA Network\n",
    "class DeepSARSA(tf.keras.Model):\n",
    "    def __init__(self, action_size):\n",
    "        super(DeepSARSA, self).__init__()\n",
    "        self.fc1 = Dense(30, activation='relu')\n",
    "        self.fc2 = Dense(30, activation='relu')\n",
    "        self.fc_out = Dense(action_size)\n",
    "    \n",
    "    def call(self, x):\n",
    "        x = self.fc1(x)\n",
    "        x = self.fc2(x)\n",
    "        q = self.fc_out(x)\n",
    "        return q\n",
    "\n",
    "\n",
    "# 그리드월드 예제에서의 딥살사 에이전트\n",
    "class DeepSARSAgent:\n",
    "    def __init__(self, state_size, action_size):\n",
    "        # 상태의 크기와 행동의 크기 정의\n",
    "        self.state_size = state_size\n",
    "        self.action_size = action_size\n",
    "\n",
    "        self.epsilon = 0.01\n",
    "        self.model = DeepSARSA(self.action_size)\n",
    "        self.model.load_weights('./checkpoint/model.900.weights.h5')\n",
    "\n",
    "    # 입실론 탐욕 정책으로 행동 선택\n",
    "    def get_action(self, state):\n",
    "        if np.random.rand() <= self.epsilon:\n",
    "            return random.randrange(self.action_size)\n",
    "        else:\n",
    "            q_values = self.model(state)\n",
    "            return np.argmax(q_values[0])"
   ]
  },
  {
   "cell_type": "code",
   "execution_count": 3,
   "metadata": {},
   "outputs": [
    {
     "name": "stderr",
     "output_type": "stream",
     "text": [
      "I0000 00:00:1730071103.675992 3898476 gpu_device.cc:2022] Created device /job:localhost/replica:0/task:0/device:GPU:0 with 878 MB memory:  -> device: 0, name: NVIDIA A100-PCIE-40GB, pci bus id: 0000:21:00.0, compute capability: 8.0\n",
      "I0000 00:00:1730071103.677591 3898476 gpu_device.cc:2022] Created device /job:localhost/replica:0/task:0/device:GPU:1 with 38067 MB memory:  -> device: 1, name: NVIDIA A100-PCIE-40GB, pci bus id: 0000:81:00.0, compute capability: 8.0\n"
     ]
    },
    {
     "name": "stdout",
     "output_type": "stream",
     "text": [
      "episode:   0 | score:   1\n",
      "episode:   1 | score:   1\n",
      "episode:   2 | score:   1\n",
      "episode:   3 | score:   1\n",
      "episode:   4 | score:   1\n",
      "episode:   5 | score:   1\n",
      "episode:   6 | score:   1\n",
      "episode:   7 | score:   1\n",
      "episode:   8 | score:   1\n",
      "episode:   9 | score:   1\n"
     ]
    }
   ],
   "source": [
    "if __name__ == \"__main__\":\n",
    "    # 환경과 에이전트 생성\n",
    "    env = Env(render_speed=0.05)\n",
    "    state_size = 15\n",
    "    action_space = [0, 1, 2, 3, 4]\n",
    "    action_size = len(action_space)\n",
    "    agent = DeepSARSAgent(state_size, action_size)\n",
    "\n",
    "    scores, episodes = [], []\n",
    "\n",
    "    EPISODES = 10\n",
    "    for e in range(EPISODES):\n",
    "        score = 0\n",
    "        done = False\n",
    "        # env 초기화\n",
    "        state = env.reset()\n",
    "        state = np.reshape(state, [1, state_size])\n",
    "\n",
    "        while not done:\n",
    "            # 현재 상태에 대한 행동 선택\n",
    "            action = agent.get_action(state)\n",
    "\n",
    "            # 선택한 행동으로 환경에서 한 타임스텝 진행 후 샘플 수집\n",
    "            next_state, reward, done = env.step(action)\n",
    "            next_state = np.reshape(next_state, [1, state_size])\n",
    "\n",
    "            state = next_state\n",
    "            score += reward\n",
    "\n",
    "            if done:\n",
    "                # 에피소드마다 학습 결과 출력\n",
    "                print(\"episode: {:3d} | score: {:3d}\".format(e, score))"
   ]
  },
  {
   "cell_type": "code",
   "execution_count": null,
   "metadata": {},
   "outputs": [],
   "source": []
  }
 ],
 "metadata": {
  "kernelspec": {
   "display_name": "Python 3",
   "language": "python",
   "name": "python3"
  },
  "language_info": {
   "codemirror_mode": {
    "name": "ipython",
    "version": 3
   },
   "file_extension": ".py",
   "mimetype": "text/x-python",
   "name": "python",
   "nbconvert_exporter": "python",
   "pygments_lexer": "ipython3",
   "version": "3.12.7"
  }
 },
 "nbformat": 4,
 "nbformat_minor": 2
}
